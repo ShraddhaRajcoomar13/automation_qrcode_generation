{
 "cells": [
  {
   "cell_type": "code",
   "execution_count": 1,
   "id": "dc23b222",
   "metadata": {},
   "outputs": [],
   "source": [
    "#generate QR code\n",
    "import qrcode\n",
    "\n",
    "# Create a QR code instance\n",
    "qr = qrcode.QRCode(\n",
    "    version=1,  # QR code version (1 to 40, higher values have more data)\n",
    "    error_correction=qrcode.constants.ERROR_CORRECT_L,  # Error correction level (L, M, Q, or H)\n",
    "    box_size=10,  # Size of each QR code block\n",
    "    border=4,  # Size of the QR code's border\n",
    ")\n",
    "\n",
    "# Data to encode in the QR code\n",
    "data = \"https://www.udemy.com/course/how-to-draw-basics-for-kids/?couponCode=LETSLEARNNOWPP\"  # Replace with your own data\n",
    "\n",
    "# Add data to the QR code\n",
    "qr.add_data(data)\n",
    "\n",
    "# Create the QR code\n",
    "qr.make(fit=True)\n",
    "\n",
    "# Create a PIL (Python Imaging Library) image from the QR code\n",
    "img = qr.make_image(fill_color=\"pink\", back_color=\"white\")\n",
    "\n",
    "# Save the QR code image to a file\n",
    "img.save(\"archu.png\")\n",
    "\n",
    "# Display the QR code\n",
    "img.show()\n"
   ]
  },
  {
   "cell_type": "code",
   "execution_count": null,
   "id": "c2f6f65b",
   "metadata": {},
   "outputs": [],
   "source": []
  }
 ],
 "metadata": {
  "kernelspec": {
   "display_name": "Python 3 (ipykernel)",
   "language": "python",
   "name": "python3"
  },
  "language_info": {
   "codemirror_mode": {
    "name": "ipython",
    "version": 3
   },
   "file_extension": ".py",
   "mimetype": "text/x-python",
   "name": "python",
   "nbconvert_exporter": "python",
   "pygments_lexer": "ipython3",
   "version": "3.8.12"
  }
 },
 "nbformat": 4,
 "nbformat_minor": 5
}
